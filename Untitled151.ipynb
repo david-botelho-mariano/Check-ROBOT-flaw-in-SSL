{
  "nbformat": 4,
  "nbformat_minor": 0,
  "metadata": {
    "colab": {
      "provenance": [],
      "collapsed_sections": []
    },
    "kernelspec": {
      "name": "python3",
      "display_name": "Python 3"
    },
    "language_info": {
      "name": "python"
    }
  },
  "cells": [
    {
      "cell_type": "code",
      "source": [
        "!pip install gmpy2\n",
        "!pip install cryptography"
      ],
      "metadata": {
        "id": "r9FVpmMVIdJO"
      },
      "execution_count": null,
      "outputs": []
    },
    {
      "cell_type": "code",
      "execution_count": null,
      "metadata": {
        "id": "qe66qZbgIbRY"
      },
      "outputs": [],
      "source": [
        "!wget https://raw.githubusercontent.com/david-botelho-mariano/check-SSL-robot-flaw/main/robot-ssl.py"
      ]
    },
    {
      "cell_type": "code",
      "source": [
        "!python robot-ssl.py google.com"
      ],
      "metadata": {
        "id": "H-F7a9qNI2PY"
      },
      "execution_count": null,
      "outputs": []
    }
  ]
}